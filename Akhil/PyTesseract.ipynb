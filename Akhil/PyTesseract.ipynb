{
 "cells": [
  {
   "cell_type": "code",
   "execution_count": 6,
   "id": "together-marking",
   "metadata": {},
   "outputs": [],
   "source": [
    "pytesseract.pytesseract.tesseract_cmd = r'E:\\OCR\\Tesseract-OCR\\tesseract.exe'"
   ]
  },
  {
   "cell_type": "code",
   "execution_count": 7,
   "id": "czech-radius",
   "metadata": {},
   "outputs": [],
   "source": [
    "import pytesseract\n",
    "from PIL import Image"
   ]
  },
  {
   "cell_type": "code",
   "execution_count": 11,
   "id": "comprehensive-saying",
   "metadata": {},
   "outputs": [],
   "source": [
    "img = Image.open(\"page1.jpg\")"
   ]
  },
  {
   "cell_type": "code",
   "execution_count": 12,
   "id": "informational-aggregate",
   "metadata": {},
   "outputs": [],
   "source": [
    "text = pytesseract.image_to_string(img, config='')"
   ]
  },
  {
   "cell_type": "code",
   "execution_count": 13,
   "id": "arabic-patio",
   "metadata": {},
   "outputs": [
    {
     "data": {
      "text/plain": [
       "'What is Big Data and Hadoop?\\n\\nBig Data refers to large sets of data that cannot be analyzed with traditional tools. It stands for data\\nrelated to large-scale processing architectures.\\n\\nHadoop is the software framework that is developed by Apache to support distributed processing of\\ndata. Initially, Java™ language was used to develop Hadoop, but today many other languages are used\\nfor scripting Hadoop. Hadoop is used as the core platform to structure Big Data and helps in\\nperforming data analytics.\\n\\nTable of Contents\\n\\nChapter: 1 Important Definitions\\nChapter: 2 MapReduce\\n\\nChapter: 3 HDES\\n\\nChapter: 4 Pig vs. SQL\\n\\nChapter: 5 HBase componenets\\nChapter: 6 Cloudera\\n\\nChapter: 7 Zookeeper and Sqoop\\n\\nChapter: 8 Hadoop Ecosystem\\n\\x0c'"
      ]
     },
     "execution_count": 13,
     "metadata": {},
     "output_type": "execute_result"
    }
   ],
   "source": [
    "text"
   ]
  },
  {
   "cell_type": "code",
   "execution_count": null,
   "id": "structural-thailand",
   "metadata": {},
   "outputs": [],
   "source": []
  }
 ],
 "metadata": {
  "kernelspec": {
   "display_name": "Python 3",
   "language": "python",
   "name": "python3"
  },
  "language_info": {
   "codemirror_mode": {
    "name": "ipython",
    "version": 3
   },
   "file_extension": ".py",
   "mimetype": "text/x-python",
   "name": "python",
   "nbconvert_exporter": "python",
   "pygments_lexer": "ipython3",
   "version": "3.9.1"
  }
 },
 "nbformat": 4,
 "nbformat_minor": 5
}
